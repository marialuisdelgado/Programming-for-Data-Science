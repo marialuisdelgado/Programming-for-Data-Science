{
 "cells": [
  {
   "cell_type": "markdown",
   "metadata": {},
   "source": [
    "# Lab 08 - The one with the Monty Hall Game\n",
    "\n",
    "Import any relevant package here:"
   ]
  },
  {
   "cell_type": "code",
   "execution_count": null,
   "metadata": {},
   "outputs": [],
   "source": []
  },
  {
   "cell_type": "markdown",
   "metadata": {},
   "source": [
    "**Note:** There are many ways to approach this challenge. Even after the solutions are released, you can achieve the same solution in multiple ways."
   ]
  },
  {
   "cell_type": "markdown",
   "metadata": {},
   "source": [
    "## Part I: Setting the Game"
   ]
  },
  {
   "cell_type": "markdown",
   "metadata": {},
   "source": [
    "### Hodor"
   ]
  },
  {
   "cell_type": "markdown",
   "metadata": {},
   "source": [
    "Start by creating a variable called `nr_doors` and assign it to the max number of doors for this game (3)"
   ]
  },
  {
   "cell_type": "code",
   "execution_count": null,
   "metadata": {},
   "outputs": [],
   "source": []
  },
  {
   "cell_type": "markdown",
   "metadata": {},
   "source": [
    "Create a list (or tuple) called `available_doors` that will hold the possible door ids for this game. You should use `nr_doors` to automatically generate these ids.<br>\n",
    "\n",
    "It's up to you if doors start at 0 or 1, e.g.:\n",
    "\n",
    "```\n",
    "# Example where door ids start at 0\n",
    "[In]: print(available_doors)\n",
    "[Out]: (0, 1, 2)\n",
    "\n",
    "# Example where door ids start at 1\n",
    "[In]: print(available_doors)\n",
    "[Out]: (1, 2, 3)\n",
    "```"
   ]
  },
  {
   "cell_type": "code",
   "execution_count": null,
   "metadata": {},
   "outputs": [],
   "source": []
  },
  {
   "cell_type": "markdown",
   "metadata": {},
   "source": [
    "### A player, a prize, and a goat enter a bar\n",
    "Create 3 variables:\n",
    "- `player_door`: The door number chosen by the player. For this exercise, instead of a manual input, this door number should be a random door from the available doors options. It will be random because we don't want to be manually inputing a value.\n",
    "- `prize_door`: The door number with the prize. You can do this in 2 ways:\n",
    "    - Easy way: The prize door number is constant (e.g. prize is always behind door nr. 1)\n",
    "    - Hard way: The prize door is randomly selected in each game (the same way the player door is). This may affect how you decide the goat door.\n",
    "- `goat_door`: The door number that the host reveals to be a goat. **Remember: The host cannot open/reveal the player door or the prize door!**\n",
    "\n",
    "Print your doors to make sure everything is ok with your code, for example:\n",
    "```\n",
    "Player door: 3\n",
    "Prize door: 1\n",
    "Goat door: 2\n",
    "```\n",
    "\n",
    "Remember that your doors will probably be different from this example, since they are randomly generated."
   ]
  },
  {
   "cell_type": "code",
   "execution_count": null,
   "metadata": {},
   "outputs": [],
   "source": []
  },
  {
   "cell_type": "markdown",
   "metadata": {},
   "source": [
    "### To switch or not to switch, that is the question\n",
    "\n",
    "Now you have to code the decision to switch (or not) the initial chosen door. Create a variable called `switch` which will take a Boolean value indicating if the player wished to switch or not his initial door pick. <br>\n",
    "If the player decides to switch, then the `player_door` variable should be overwriten with the new and remaining door.\n",
    "\n",
    "Example:\n",
    "1. Player chooses door 2 from available doors (1, 2, 3)\n",
    "1. The prize is behind door 1\n",
    "1. The host reveals a goat behind door 3\n",
    "1. If the player keeps his pick, he has door 2, if he chooses to switch, only door 1 is available now (since door 3 was opened).\n",
    "\n",
    "Test your code by keeping and switching your initial picks to check everything is ok!"
   ]
  },
  {
   "cell_type": "code",
   "execution_count": null,
   "metadata": {},
   "outputs": [],
   "source": []
  },
  {
   "cell_type": "markdown",
   "metadata": {},
   "source": [
    "### Did I win?\n",
    "\n",
    "The moment of truth! Now you must check if the player guessed the prize door. If yes, then you should print something like `\"Player wins!\"`, otherwise, print `\"Player lost!\"`."
   ]
  },
  {
   "cell_type": "code",
   "execution_count": null,
   "metadata": {},
   "outputs": [],
   "source": []
  },
  {
   "cell_type": "markdown",
   "metadata": {},
   "source": [
    "_Test the code you written in part I a couple of times to check everything is ok with your game._"
   ]
  },
  {
   "cell_type": "markdown",
   "metadata": {},
   "source": [
    "## Part II: Wrap it up\n",
    "\n",
    "Let's create an easier game to play, instead of having to run multiple cell blocks. <br>\n",
    "\n",
    "Create a function called:\n",
    "```\n",
    "def play_monty_hall(switch)\n",
    "```\n",
    "that, given the boolean argument `switch`, should play 1 instance of the monty hall game. Parse the code you wrote in *Part I* inside the function (you may want to remove the print statements for less clutter). \n",
    "\n",
    "If the player correctly gueses the prize door, then the function should return the value `1` (integer). Otherwise, it should return `0`.\n",
    "\n",
    "It is important that the decision to change or not the initial pick is now to be controlled by the function argument `switch`.\n",
    "\n",
    "After you are done, test your function a couple of times.\n",
    "\n",
    "For example, a win would look like this:\n",
    "```\n",
    "[In]: play_monty_hall(switch=True)  # or switch=False\n",
    "[Out]: 1\n",
    "```\n",
    "\n",
    "And a loss like this:\n",
    "```\n",
    "[In]: play_monty_hall(switch=True)  # or switch=False\n",
    "[Out]: 0\n",
    "```"
   ]
  },
  {
   "cell_type": "code",
   "execution_count": null,
   "metadata": {},
   "outputs": [],
   "source": []
  },
  {
   "cell_type": "markdown",
   "metadata": {},
   "source": [
    "Nice! You have an up and running Monty Hall game. Test it a few times before moving on."
   ]
  },
  {
   "cell_type": "markdown",
   "metadata": {},
   "source": [
    "## Part III: Playing a Ton' of games!"
   ]
  },
  {
   "cell_type": "markdown",
   "metadata": {},
   "source": [
    "1. Create a variable called `games` with the total number of games to play (you can set it to a high number such as 1000 or higher)\n",
    "1. Iterate your total number of games and, in each one, play 2 instances of the monty hall game: One without switching door picks, and one switching doors.\n",
    "1. In each iteration, keep track of the total amount of wins so far (cumulative wins) until the current iteration iteration N **(not the total number of wins in all games)**.\n",
    "\n",
    "For example:\n",
    "\n",
    "In Game 1, `play_monty_hall(switch=False)` returns a win (1) and `play_monty_hall(switch=True)` returns a loss (0). This means that so far we have `[1]` and `[0]` wins respectively.\n",
    "\n",
    "In Game 2, `play_monty_hall(switch=False)` returns a loss (0) and `play_monty_hall(switch=True)` returns a win (1). This means that so far we have `[1, 1]` and `[0, 1]` wins respectively.\n",
    "\n",
    "In Game 3, `play_monty_hall(switch=False)` returns a loss (0) and `play_monty_hall(switch=True)` returns a win (1). This means that so far we have `[1, 1, 1]` and `[0, 1, 2]` wins respectively.\n",
    "\n",
    "In summary, in three games, without switching doors, we only had 1 win: `[1, 1+0, 1+0]`. This list indicates that we had a win in the first game, and two losses afterwards. With switching doors, we had 2 wins: `[0, 0+1, 1+1]`. This list indicates that we won the second and third games.\n",
    "\n",
    "*In other words, you should sum the outcome of the current game with the previous one*"
   ]
  },
  {
   "cell_type": "code",
   "execution_count": null,
   "metadata": {},
   "outputs": [],
   "source": []
  },
  {
   "cell_type": "markdown",
   "metadata": {},
   "source": [
    "Create a pandas dataframe with the information from the previous step. The dataframe should contain the following information:\n",
    "- `games`: The number of games played (starts in 1, ends in your total number of games)\n",
    "- `wins_no_switch`: The amount of wins without switching doors until each game count\n",
    "- `wins_with_switch`: The amount of wins with switching doors until each game count\n",
    "- `perc_wins_no_switch`: The percentage of won games, without switching (Nr. Wins games N / N games)\n",
    "- `perc_wins_with_switch`: The percentage of won games, with switching (Nr. Wins games N / N games)\n",
    "\n",
    "*Tip: Some of the above features are easier to create after you created an initial dataframe, using pandas methods.* \n",
    "\n",
    "The final dataframe should look something like this:\n",
    "\n",
    "| games | wins_no_switch | wins_with_switch | perc_wins_no_switch | perc_wins_with_switch |\n",
    "|------:|---------------:|-----------------:|--------------------:|----------------------:|\n",
    "|     1 |              0 |                1 |            0.000000 |              1.000000 |\n",
    "|     2 |              1 |                2 |            0.500000 |              1.000000 |\n",
    "|     3 |              2 |                2 |            0.666667 |              0.666667 |\n",
    "|   ... |            ... |              ... |                 ... |                   ... |"
   ]
  },
  {
   "cell_type": "code",
   "execution_count": null,
   "metadata": {},
   "outputs": [],
   "source": []
  },
  {
   "cell_type": "markdown",
   "metadata": {},
   "source": [
    "__Looking at the dataframe, what is your conclusion on the problem? Would you say it's better to keep or change the initial door pick? :)__"
   ]
  },
  {
   "cell_type": "code",
   "execution_count": null,
   "metadata": {},
   "outputs": [],
   "source": []
  },
  {
   "cell_type": "markdown",
   "metadata": {},
   "source": [
    "Export your monty hall game summary dataframe to a csv file called `monty_hall_games.csv`"
   ]
  },
  {
   "cell_type": "code",
   "execution_count": null,
   "metadata": {},
   "outputs": [],
   "source": []
  },
  {
   "cell_type": "markdown",
   "metadata": {},
   "source": [
    "## Part IV: Visualizing the odds!\n",
    "A preview of next class 😎"
   ]
  },
  {
   "cell_type": "markdown",
   "metadata": {},
   "source": [
    "### 1) Cumulative Games"
   ]
  },
  {
   "cell_type": "markdown",
   "metadata": {},
   "source": [
    "Read the data from the `monty_hall_games.csv` file you just generated into a pandas DataFrame"
   ]
  },
  {
   "cell_type": "code",
   "execution_count": null,
   "metadata": {},
   "outputs": [],
   "source": []
  },
  {
   "cell_type": "markdown",
   "metadata": {},
   "source": [
    "We still didn't learn how to do cool data visualizations in Python. \n",
    "\n",
    "However, try to draw a plot that shows how the probabilities of winning with, and without, switching doors significantly change the more games you play. \n",
    "\n",
    "You will see that they tend to 1/3 and 2/3\n",
    "\n",
    "**Checklist**\n",
    "- [ ] A line plot in which you can visualize the win probabilities of games with and without switching doors along N games\n",
    "- [ ] Each probability line is colored differently\n",
    "- [ ] Contains a title\n",
    "- [ ] Contains a legend for each line\n",
    "- [ ] Highlight the 1/3 and 2/3 probabilities in the plot (maybe with a constant horizontal line)"
   ]
  },
  {
   "cell_type": "code",
   "execution_count": null,
   "metadata": {},
   "outputs": [],
   "source": []
  },
  {
   "cell_type": "markdown",
   "metadata": {},
   "source": [
    "### 2) Harder: Independent Games\n",
    "\n",
    "When iterating each one of your games, instead of adding the cumulative number of wins, try to change your code you wrote on **part III** so that you play N independent games in each iteration. <br>\n",
    "This means that, for eaxmple, if you are on iteration 5 of your loop, you would play 5 games and add the total number of wins to your lists (instead of just 1 game and add the total number of wins so far). This also means that in each iteration, the number of wins can be smaller than the number of wins in the previous iteration:\n",
    "\n",
    "```\n",
    "# Example\n",
    "# Game 10\n",
    "# Without switch -> 5 wins\n",
    "# With switch -> 6 wins\n",
    "wins_no_switch = [..., 5]\n",
    "wins_with_switch = [..., 6]\n",
    "\n",
    "# Game 11\n",
    "# Without switch -> 6 wins\n",
    "# With switch -> 8 wins\n",
    "wins_no_switch = [..., 5, 6]\n",
    "wins_with_switch = [..., 6, 8]\n",
    "\n",
    "# Game 12\n",
    "# Without switch -> 6 wins\n",
    "# With switch -> 7 wins\n",
    "wins_no_switch = [..., 5, 6, 6]\n",
    "wins_with_switch = [..., 6, 8, 7]\n",
    "\n",
    "...\n",
    "```\n",
    "\n",
    "__WARNING: Since you are playing N games in each iteration, it is expected that the code takes a lot longer to run when increasing the number of total games. You may have to wait a few minutes__\n",
    "\n",
    "Afterwards, save the results in a dataframe called `bonus_monty_hall_games.csv`"
   ]
  },
  {
   "cell_type": "code",
   "execution_count": null,
   "metadata": {},
   "outputs": [],
   "source": []
  },
  {
   "cell_type": "markdown",
   "metadata": {},
   "source": [
    "Visualize the odds as you did in the previous bonus step. What is different?"
   ]
  },
  {
   "cell_type": "code",
   "execution_count": null,
   "metadata": {},
   "outputs": [],
   "source": []
  },
  {
   "cell_type": "markdown",
   "metadata": {},
   "source": [
    "## Part V: Playing with N doors\n",
    "What if, instead of only 3 doors we played the game with an infinite number of doors?\n",
    "\n",
    "Change your monty hall game function to accept a new argument: `doors` (the number of doors to use in the game). Set the default number to 3. <br>\n",
    "The difference now is that the host opens `N-2` doors with goats instead of just 1.\n",
    "\n",
    "__Example:__ Let's say we are playing with 100 doors. The player chooses 1 door (99 remaining) and then the host opens 98 doors, leaving just 1 hidden. You then have the option to keep or change your pick to the remaining door.\n",
    "\n",
    "__The function should have a condition that requires the number of doors to be `>= 3`. If it isn't, then the code should throw an Error (e.g. `ValueError`).__\n",
    "\n",
    "Play the following games:\n",
    "- Case 1: switch = False & doors = 1\n",
    "- Case 2: switch = False & doors = 10\n",
    "- Case 3: switch = True & doors = 100\n",
    "\n",
    "What do you think will happen to the odds when you increase the door numbers? :)"
   ]
  },
  {
   "cell_type": "code",
   "execution_count": null,
   "metadata": {},
   "outputs": [],
   "source": []
  },
  {
   "cell_type": "markdown",
   "metadata": {},
   "source": [
    "Visualize your odds again (using the code from the previous exercise) but with an increasing number of doors (e.g. 100). What changes?"
   ]
  },
  {
   "cell_type": "code",
   "execution_count": null,
   "metadata": {},
   "outputs": [],
   "source": []
  },
  {
   "cell_type": "markdown",
   "metadata": {},
   "source": [
    "_With 10 games, odd of winning tends to 90% by changing doors_"
   ]
  },
  {
   "cell_type": "code",
   "execution_count": null,
   "metadata": {},
   "outputs": [],
   "source": []
  },
  {
   "cell_type": "markdown",
   "metadata": {},
   "source": [
    "_With 100 games, odd of winning tends to 99% by changing doors_"
   ]
  },
  {
   "cell_type": "code",
   "execution_count": null,
   "metadata": {},
   "outputs": [],
   "source": []
  }
 ],
 "metadata": {
  "interpreter": {
   "hash": "6f2322e388951880e07f0317d9ab9609c2fd482367d5a78994febea5b71d29d8"
  },
  "kernelspec": {
   "display_name": "Python 3 (ipykernel)",
   "language": "python",
   "name": "python3"
  },
  "language_info": {
   "codemirror_mode": {
    "name": "ipython",
    "version": 3
   },
   "file_extension": ".py",
   "mimetype": "text/x-python",
   "name": "python",
   "nbconvert_exporter": "python",
   "pygments_lexer": "ipython3",
   "version": "3.11.1"
  }
 },
 "nbformat": 4,
 "nbformat_minor": 2
}
